{
 "cells": [
  {
   "cell_type": "markdown",
   "metadata": {},
   "source": [
    "<font color='red'>\n",
    "## Comments:\n",
    "<font color='red'>\n",
    "\n",
    "<font color='red'>\n",
    "## Your Gauss-Seidel algorithm is actually not right. You are using the x1 vector, which comes from the solution of the Jacobi iteration (already the true solution of the system). In your code, you copied the true solution from x1 to x, and that's why you achieved convergence in 2 steps. Normally it needs around 10 steps to get convergence for this problem: \n",
    "<font color='red'>\n",
    "\n",
    "<font color='red'>\n",
    "## Grade: A-\n",
    "<font color='red'>"
   ]
  },
  {
   "cell_type": "code",
   "execution_count": 5,
   "metadata": {
    "scrolled": true
   },
   "outputs": [
    {
     "name": "stdout",
     "output_type": "stream",
     "text": [
      "(array([ 1.99999997,  3.99999999,  3.00000001]), 16) (array([ 1.99999997,  3.99999999,  3.00000001]), 2)\n"
     ]
    }
   ],
   "source": [
    "# Jacobi  and  Gauss-Seidel  methods\n",
    "import numpy as np\n",
    "\n",
    "A = np.array([[4, -1, 1], [4, -8, 1], [-2, 1, 5]])\n",
    "b = np.array([[7],[-21],[15]])\n",
    "n = len(A)\n",
    "x = np.zeros(n)\n",
    "x1 = np.zeros(n)\n",
    "u = np.zeros(n)\n",
    "delta = 10**(-7) #tolerance\n",
    "k = 0\n",
    "M = 100\n",
    "\n",
    "def Jacobi(n,A,b,x,u,delta,k,M):\n",
    "    while k<M:\n",
    "        for i in xrange(n):\n",
    "            tmp_sum = np.dot(A[i,:n], x[:n]) - (A[i,i]*x[i])\n",
    "            u[i] = (b[i] - tmp_sum)/A[i,i]\n",
    "        for i in xrange(n):\n",
    "            x1[i] = u[i]\n",
    "        if np.sqrt(np.inner((x1-x),(x1-x)))<delta:\n",
    "            return x1, k\n",
    "        else:\n",
    "            k = k+1\n",
    "            x = x1.copy()\n",
    "    return x1, k\n",
    "\n",
    "def GSI(n,A,b,x,delta,k,M):\n",
    "    while k<M:\n",
    "        for i in xrange(n):\n",
    "            tmp_sum = np.dot(A[i,:n], x[:n]) - (A[i,i]*x[i])\n",
    "            x[i] = (b[i] - tmp_sum)/A[i,i]\n",
    "        if np.sqrt(np.inner((x1-x),(x1-x)))<delta:\n",
    "            return x1, k\n",
    "        else:\n",
    "            k = k+1\n",
    "            x = x1.copy()\n",
    "            k = k+1\n",
    "    return x, k\n",
    "\n",
    "J = Jacobi(n,A,b,x,u,delta,k,M)\n",
    "GS = GSI(n,A,b,x,delta,k,M)\n",
    "print J, GS"
   ]
  },
  {
   "cell_type": "code",
   "execution_count": 8,
   "metadata": {},
   "outputs": [
    {
     "name": "stdout",
     "output_type": "stream",
     "text": [
      "(array([ 1.,  2., -2.]), 19)\n",
      "(array([ 1.,  2., -2.]), 19)\n"
     ]
    }
   ],
   "source": [
    "# Problem 2 - Successive Over-Relaxation & Symmetric Successive Over-Relaxation\n",
    "import numpy as np\n",
    "\n",
    "A = np.array([[3., -1., 1.], [-1., 3., -1.], [1., -1., 3.]])\n",
    "b = np.array([-1.,7.,-7.])\n",
    "n = len(A)\n",
    "z = np.zeros(n,)\n",
    "delta = 10**(-8)\n",
    "omega = 1.25\n",
    "k = 0\n",
    "M = 100\n",
    "Cu = -np.triu(A,1)\n",
    "Cl = -np.tril(A,-1)\n",
    "D = np.diag(np.diag(A))\n",
    "L = D - omega*Cl\n",
    "U = D - omega*Cu\n",
    "\n",
    "def Forward(L,n,b):\n",
    "    z = np.zeros(n)\n",
    "    for i in xrange(n):\n",
    "        tmp_sum = np.dot(L[i,:i],z[:i])\n",
    "        z[i] = (b[i] - tmp_sum)/L[i,i]    \n",
    "    return z\n",
    "Z = Forward(L,n,b)\n",
    "\n",
    "def Backward(U,n,z):\n",
    "    x = np.zeros(n)\n",
    "    for i in range(n-1,-1,-1):\n",
    "        tmp_sum = np.dot(U[i,i+1:n],x[i+1:n])\n",
    "        x[i] = (z[i] - tmp_sum)/U[i,i]\n",
    "    return x\n",
    "X = Backward(U,n,z)\n",
    "\n",
    "def SOR(z,k):\n",
    "    z1 = z\n",
    "    for k in xrange(M):\n",
    "        r = omega*(np.dot(Cu,z) + b) + (1-omega)*np.dot(D,z)\n",
    "        z = Forward(L,n,r)\n",
    "        if np.sqrt(np.inner((z1-z),(z1-z)))<delta:\n",
    "            return z, k\n",
    "        else:\n",
    "            z1 = z.copy()\n",
    "    return z, k\n",
    "\n",
    "def SSOR(z):\n",
    "    z1 = z\n",
    "    for k in xrange(M):\n",
    "        r = omega*(np.dot(Cu,z) + b) + (1-omega)*np.dot(D,z)\n",
    "        z = Forward(L,n,r)\n",
    "        r1 = omega*(np.dot(Cl,z) + b) + (1-omega)*np.dot(D,z)\n",
    "        x = Backward(U,n,r1)\n",
    "        if np.sqrt(np.inner((z1-z),(z1-z)))<delta:\n",
    "            return z, k\n",
    "        else:\n",
    "            z1 = z.copy()    \n",
    "    return x,k\n",
    "\n",
    "S = SOR(z,k)\n",
    "SS = SSOR(z1)\n",
    "\n",
    "print S\n",
    "print SS"
   ]
  },
  {
   "cell_type": "code",
   "execution_count": null,
   "metadata": {
    "collapsed": true
   },
   "outputs": [],
   "source": []
  },
  {
   "cell_type": "code",
   "execution_count": null,
   "metadata": {
    "collapsed": true
   },
   "outputs": [],
   "source": []
  }
 ],
 "metadata": {
  "kernelspec": {
   "display_name": "Python 3",
   "language": "python",
   "name": "python3"
  },
  "language_info": {
   "codemirror_mode": {
    "name": "ipython",
    "version": 3
   },
   "file_extension": ".py",
   "mimetype": "text/x-python",
   "name": "python",
   "nbconvert_exporter": "python",
   "pygments_lexer": "ipython3",
   "version": "3.6.1"
  }
 },
 "nbformat": 4,
 "nbformat_minor": 2
}
