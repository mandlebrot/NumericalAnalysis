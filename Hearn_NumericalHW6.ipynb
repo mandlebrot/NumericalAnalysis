{
 "cells": [
  {
   "cell_type": "code",
   "execution_count": 4,
   "metadata": {
    "collapsed": false,
    "scrolled": true
   },
   "outputs": [
    {
     "name": "stdout",
     "output_type": "stream",
     "text": [
      "(array([[ 0.42857143, -0.0952381 , -0.47619048],\n",
      "       [ 0.28571429,  0.71428571,  0.57142857],\n",
      "       [ 0.        , -0.66666667,  0.66666667],\n",
      "       [ 0.85714286, -0.19047619,  0.04761905]]), array([[ 147.,  105.,  -84.],\n",
      "       [   0.,   42.,   21.],\n",
      "       [   0.,    0.,  105.]]), array([[ 0.41814059],\n",
      "       [-0.55238095],\n",
      "       [-0.05396825]]))\n"
     ]
    }
   ],
   "source": [
    "# Problem 1 - Gram-Schmidt and normal equation to solve least-squares problem\n",
    "import numpy as np\n",
    "from numpy import dot\n",
    "from numpy.linalg import inv\n",
    "\n",
    "A = np.array([[63.,41.,-88.], [42.,60.,51.], [0.,-28.,56.], [126.,82.,-71.]])\n",
    "b = np.array([[12.],[-17.],[14.],[9.]])\n",
    "\n",
    "n = len(A)\n",
    "m = len(np.transpose(A))\n",
    "\n",
    "def gramschmidt(A,b):\n",
    "    R = np.zeros((A.shape[1], A.shape[1]))\n",
    "    Q = np.zeros(A.shape)\n",
    "    for k in range(0, A.shape[1]):\n",
    "        R[k, k] = np.sqrt(dot(A[:, k], A[:, k]))\n",
    "        Q[:, k] = A[:, k]/R[k, k]\n",
    "        for j in range(k+1, A.shape[1]):\n",
    "            R[k, j] = dot(Q[:, k], A[:, j])\n",
    "            A[:, j] = A[:, j] - R[k, j]*Q[:, k]\n",
    "    prod = dot(np.transpose(Q),Q)\n",
    "    x = dot(inv(R),dot(inv(prod),dot(np.transpose(Q),b)))\n",
    "    return Q, R, x\n",
    "\n",
    "\n",
    "gs = gramschmidt(A,b)\n",
    "print gs"
   ]
  },
  {
   "cell_type": "code",
   "execution_count": 32,
   "metadata": {
    "collapsed": false
   },
   "outputs": [
    {
     "name": "stdout",
     "output_type": "stream",
     "text": [
      "[[  4.00000000e+00  -3.00000000e+00   1.33226763e-16  -9.32587341e-16]\n",
      " [ -3.00000000e+00   3.33333333e+00  -1.66666667e+00  -1.11022302e-16]\n",
      " [  1.33226763e-16  -1.66666667e+00  -1.32000000e+00   9.06666667e-01]\n",
      " [ -9.32587341e-16  -3.33066907e-16   9.06666667e-01   1.98666667e+00]]\n",
      "[[ -2.00000000e+00   3.57770876e+00  -2.68328157e+00]\n",
      " [  4.47213595e+00   2.60000000e+00   2.80000000e+00]\n",
      " [  4.44089210e-16   2.80000000e+00   3.40000000e+00]]\n"
     ]
    }
   ],
   "source": [
    "# Problem 2 - Householder Transformation\n",
    "import numpy as np\n",
    "\n",
    "test = np.array([[4.,1.,-2.,2.], [1.,2.,0.,1.], [-2.,0.,3.,-2.], [2.,1.,-2.,-1.]])\n",
    "test2 = np.array([[-2.,-4.,2.], [-2.,1.,2.], [4.,2.,5.]])\n",
    "n = len(test)\n",
    "m = len(test2)\n",
    "\n",
    "def Householder(n,A):\n",
    "    for k in xrange(n-2):\n",
    "        q = np.dot(A[k+1:n,k],A[k+1:n,k])\n",
    "        alpha = -np.sign(A[k+1,k])*np.sqrt(q)\n",
    "        r = np.sqrt((alpha**2)/2. - (alpha*A[k+1,k])/2.)\n",
    "        w = np.zeros(n)\n",
    "        w[k+1] = (A[k+1,k]-alpha)/(2.*r)\n",
    "        for j in range(k+2,n):\n",
    "            w[j] = A[j,k]/(2.*r)\n",
    "        P = np.identity(n) - 2.*np.outer(w,np.transpose(w))\n",
    "        A = np.dot(P,np.dot(A,P))        \n",
    "    return A\n",
    "\n",
    "H1 = Householder(n,test)\n",
    "H2 = Householder(m,test2)\n",
    "\n",
    "print H1\n",
    "print H2"
   ]
  },
  {
   "cell_type": "code",
   "execution_count": 40,
   "metadata": {
    "collapsed": true
   },
   "outputs": [],
   "source": [
    "# QR algorithm3\n",
    "import numpy as np\n",
    "\n",
    "epsilon = 10**(-8)\n",
    "M = 1000\n",
    "\n",
    "def QR(n,A,epsilon,M):\n",
    "    b = np.diag(A,-1)\n",
    "    l = 1\n",
    "    while np.linalg.norm(b) >= epsilon:\n",
    "        Q = np.identity(n)\n",
    "        for k in xrange(n-1):\n",
    "            d = np.sqrt(A[k,k]**2 + A[k+1,k]**2)\n",
    "            c = A[k,k]/d\n",
    "            s = A[k+1,k]/d\n",
    "            for j in range(k,n):\n",
    "                u = c*A[k,j] + s*A[k+1,j]\n",
    "                if j == k:\n",
    "                    A[k+1,j] = 0\n",
    "                else:\n",
    "                    A[k+1,j] = c*A[k+1,j] - s*A[k,j]\n",
    "                A[k,j] = u\n",
    "            G = np.identity(n)\n",
    "            G[k,k] = c\n",
    "            G[k+1,k+1] = c\n",
    "            G[k,k+1] = s\n",
    "            G[k+1,k] = -s\n",
    "            Q = dot(Q,np.transpose(G))\n",
    "        A = dot(A,Q)\n",
    "        l = l+1\n",
    "        b = np.diag(A,-1)\n",
    "        if l>M:\n",
    "            return np.diag(A)            \n",
    "    return np.diag(A), l\n"
   ]
  },
  {
   "cell_type": "code",
   "execution_count": 42,
   "metadata": {
    "collapsed": false
   },
   "outputs": [
    {
     "name": "stdout",
     "output_type": "stream",
     "text": [
      "(array([ 6.84462111,  2.26853141, -2.19751698,  1.08436446]), 645)\n",
      "(array([ 6., -5.,  3.]), 118)\n",
      "(array([ 6.04880331,  3.1560105 , -1.2048138 ]), 31)\n"
     ]
    }
   ],
   "source": [
    "# Problem 3 & 4 - Use QR to find eigenvalues\n",
    "C = np.array([[4.,3.,0.], [3.,1.,-1.], [0.,-2.,3.]])\n",
    "n = len(A)\n",
    "m = len(B)\n",
    "\n",
    "AQR = QR(n,H1,epsilon,M)\n",
    "BQR = QR(m,H2,epsilon,M)\n",
    "CQR = QR(m,C,epsilon,M)\n",
    "\n",
    "print AQR\n",
    "print BQR\n",
    "print CQR"
   ]
  },
  {
   "cell_type": "code",
   "execution_count": null,
   "metadata": {
    "collapsed": true
   },
   "outputs": [],
   "source": []
  }
 ],
 "metadata": {
  "kernelspec": {
   "display_name": "Python 2",
   "language": "python",
   "name": "python2"
  },
  "language_info": {
   "codemirror_mode": {
    "name": "ipython",
    "version": 2
   },
   "file_extension": ".py",
   "mimetype": "text/x-python",
   "name": "python",
   "nbconvert_exporter": "python",
   "pygments_lexer": "ipython2",
   "version": "2.7.13"
  }
 },
 "nbformat": 4,
 "nbformat_minor": 2
}
