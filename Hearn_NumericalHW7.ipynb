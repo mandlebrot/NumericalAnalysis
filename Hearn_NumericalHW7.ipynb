{
 "cells": [
  {
   "cell_type": "code",
   "execution_count": 3,
   "metadata": {
    "collapsed": false
   },
   "outputs": [
    {
     "name": "stdout",
     "output_type": "stream",
     "text": [
      "[[ 0.          0.          0.          0.          0.        ]\n",
      " [ 1.          3.          0.          0.          0.        ]\n",
      " [ 1.41421356  1.82842712  1.24264069  0.          0.        ]\n",
      " [ 2.          1.70710678  1.7475469   1.62132034  0.        ]\n",
      " [ 2.23606798  1.76393202  1.72604853  1.73679771  1.69060676]] 1.73205080757\n"
     ]
    }
   ],
   "source": [
    "# Problem 1 - Lagrange Interpolation and Neville's method\n",
    "import numpy as np\n",
    "import scipy.integrate as integ\n",
    "\n",
    "x = np.array([0.,1.,2.,4.,5.])\n",
    "n = len(x)\n",
    "\n",
    "def f(x):\n",
    "    f = np.sqrt(x)\n",
    "    return f\n",
    "\n",
    "def Neville(r,n,x,f):\n",
    "    Q = np.zeros((n,n))\n",
    "    for i in range(0,n):\n",
    "        Q[i,0] = f(x[i])\n",
    "    for i in range(1,n):\n",
    "        for j in range(1,i+1):\n",
    "            Q[i,j] = (np.dot((r-x[i-j]),Q[i,j-1]) - np.dot((r-x[i]),Q[i-1,j-1]))/(x[i]-x[i-j])\n",
    "    return Q\n",
    "\n",
    "r = 3\n",
    "nev1 = Neville(r,n,x,f)\n",
    "print(nev1, np.sqrt(3))"
   ]
  },
  {
   "cell_type": "code",
   "execution_count": 5,
   "metadata": {
    "collapsed": false
   },
   "outputs": [
    {
     "name": "stdout",
     "output_type": "stream",
     "text": [
      "[[ 16.9441     0.         0.         0.      ]\n",
      " [ 17.56492    0.         0.         0.      ]\n",
      " [ 18.50515   17.87833    0.         0.      ]\n",
      " [ 18.82091   17.87363   17.877155   0.      ]]\n"
     ]
    }
   ],
   "source": [
    "# Problem 2 - test cases\n",
    "\n",
    "x = np.array([8.1,8.3,8.6,8.7])\n",
    "Q0 = np.array([[16.94410],[17.56492],[18.50515],[18.82091]])\n",
    "r = 8.4\n",
    "n = len(x)\n",
    "\n",
    "def Neville2(r,n,x,Q0):\n",
    "    Q = np.zeros((n,n))\n",
    "    for i in range(0,n):\n",
    "        Q[i,0] = Q0[i,0]\n",
    "    for i in range(1,n):\n",
    "        for j in range(1,i):\n",
    "            Q[i,j] = (np.dot((r-x[i-j]),Q[i,j-1]) - np.dot((r-x[i]),Q[i-1,j-1]))/(x[i]-x[i-j])\n",
    "    return Q\n",
    "\n",
    "nev2 = Neville2(r,n,x,Q0)\n",
    "\n",
    "print(nev2)"
   ]
  }
 ],
 "metadata": {
  "kernelspec": {
   "display_name": "Python 2",
   "language": "python",
   "name": "python2"
  },
  "language_info": {
   "codemirror_mode": {
    "name": "ipython",
    "version": 2
   },
   "file_extension": ".py",
   "mimetype": "text/x-python",
   "name": "python",
   "nbconvert_exporter": "python",
   "pygments_lexer": "ipython2",
   "version": "2.7.13"
  }
 },
 "nbformat": 4,
 "nbformat_minor": 2
}
