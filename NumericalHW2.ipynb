{
 "cells": [
  {
   "cell_type": "code",
   "execution_count": null,
   "metadata": {
    "collapsed": true
   },
   "outputs": [],
   "source": [
    "## Lauren Hearn\n",
    "## MATH5660 ProgHW2\n",
    "## Due 09.28.17"
   ]
  },
  {
   "cell_type": "code",
   "execution_count": 2,
   "metadata": {
    "collapsed": false
   },
   "outputs": [
    {
     "name": "stdout",
     "output_type": "stream",
     "text": [
      "5 8\n",
      "5 8\n",
      "5 8\n",
      "5 8\n",
      "5 8\n",
      "(5, 8)\n"
     ]
    }
   ],
   "source": [
    "# Problem 1 - Newton's method\n",
    "import numpy as np\n",
    "\n",
    "x0 = 5\n",
    "delta = 10**(-7) #tolerance\n",
    "M = 5 #max iterations\n",
    "\n",
    "def newton(f, fp, x0, delta, M):\n",
    "    i=1\n",
    "    while i<=M:\n",
    "        x1 = x0 - (f(x0)/fp(x0))\n",
    "        if np.abs(f(x0)) < delta:\n",
    "            return x1, f(x1)\n",
    "        else:\n",
    "            x0 = x1\n",
    "            i = i+1\n",
    "            print x0, f(x0)\n",
    "    return x0,f(x0)\n",
    "\n",
    "def f(x):\n",
    "    return x**3 - 5*x**2 + 3*x -7\n",
    "\n",
    "def fp(x): # derivative of f\n",
    "    return 3*x**2 - 10*x + 3\n",
    "\n",
    "p = newton(f,fp,x0,delta,M)\n",
    "print p"
   ]
  },
  {
   "cell_type": "code",
   "execution_count": 3,
   "metadata": {
    "collapsed": false
   },
   "outputs": [
    {
     "name": "stdout",
     "output_type": "stream",
     "text": [
      "(-6.2813143694914624, -2.1146279172157278e-15)\n"
     ]
    }
   ],
   "source": [
    "# Problem 2 - Secant method\n",
    "import numpy as np\n",
    "\n",
    "x0 = 0\n",
    "x1 = 1\n",
    "delta = 10**(-7) #tolerance\n",
    "M = 100 #max iterations\n",
    "\n",
    "def secant(f,x0,x1,delta,M):\n",
    "    i=1\n",
    "    while i<=M:\n",
    "        x2 = x1 - f(x1)*((x1-x0)/(f(x1)-f(x0)))\n",
    "        if np.abs(x2-x1) < delta:\n",
    "            return x2, f(x2)\n",
    "        else:\n",
    "            x0 = x1\n",
    "            x1 = x2\n",
    "            i = i+1\n",
    "    return x1, f(x1)\n",
    "\n",
    "def f(x):\n",
    "    return np.exp(x)-np.tan(x)\n",
    "\n",
    "p = secant(f,x0,x1,delta,M)\n",
    "print p\n",
    "\n",
    "## graphically, there are at least 5 roots.\n",
    "## depending on x0 and x1, we can find them"
   ]
  },
  {
   "cell_type": "code",
   "execution_count": 4,
   "metadata": {
    "collapsed": false
   },
   "outputs": [
    {
     "name": "stdout",
     "output_type": "stream",
     "text": [
      "4.49778729038 0.0902537671618\n",
      "4.49533535232 0.0392415179921\n",
      "4.49378099934 0.00751485888255\n",
      "4.49342325937 0.000278679589634\n",
      "4.49340947694 3.84348168403e-07\n",
      "4.49340945791 7.36299909931e-13\n",
      "4.49340945791 8.881784197e-16\n",
      "(4.4934094579090642, 8.8817841970012523e-16)\n"
     ]
    }
   ],
   "source": [
    "# Problem 3 - Steffensen's method\n",
    "import numpy as np\n",
    "\n",
    "x0 = 4.5\n",
    "delta = 10**(-20) #tolerance\n",
    "M = 10 #max iterations\n",
    "\n",
    "def steffensen(f, x0, delta, M):\n",
    "    i=1\n",
    "    while i<=M:\n",
    "        x1 = x0 - (f(x0)**2/(f(x0+f(x0))-f(x0)))\n",
    "        if np.abs(x1-x0) < delta:\n",
    "            return x1, f(x1)\n",
    "        else:\n",
    "            x0 = x1\n",
    "            i = i+1\n",
    "            print x0, f(x0)\n",
    "    return x0,f(x0)\n",
    "\n",
    "def f(x):\n",
    "    return np.tan(x) - x\n",
    "\n",
    "p = steffensen(f,x0,delta,M)\n",
    "print p"
   ]
  },
  {
   "cell_type": "code",
   "execution_count": 5,
   "metadata": {
    "collapsed": false
   },
   "outputs": [
    {
     "name": "stdout",
     "output_type": "stream",
     "text": [
      "[[ 0.21160314]\n",
      " [ 0.99971973]] [[  3.14202978e-07]\n",
      " [  1.40561949e+01]]\n",
      "[[ 0.14127495]\n",
      " [ 1.30453216]] [[ 0.37164247]\n",
      " [ 1.11461509]]\n",
      "[[ 0.13424788]\n",
      " [ 1.30410026]] [[  7.46135012e-07]\n",
      " [  8.34572515e-03]]\n",
      "[[ 0.13419706]\n",
      " [ 1.30428332]] [[  1.34042359e-07]\n",
      " [  5.37056312e-07]]\n",
      "(matrix([[ 0.13419705],\n",
      "        [ 1.30428333]]), matrix([[  0.00000000e+00],\n",
      "        [  5.32907052e-15]]))\n"
     ]
    }
   ],
   "source": [
    "# Problem 4 - Newton's method for system of eq.\n",
    "import numpy as np\n",
    "\n",
    "x0 = .5\n",
    "y0 = 1\n",
    "xm = np.matrix([[x0],[y0]])\n",
    "delta = 10**(-7) #tolerance\n",
    "M = 100 #max iterations\n",
    "\n",
    "def newton(f, Inv, x0, y0, xm, delta, M):\n",
    "    i=1\n",
    "    while i<=M:\n",
    "        xn = xm - Inv(x0,y0)*f(x0,y0)\n",
    "        x1 = xn.item(0)\n",
    "        y1 = xn.item(1)\n",
    "        if np.linalg.norm(xn-xm) < delta:\n",
    "            return xn, f(x1,y1)\n",
    "        else:\n",
    "            x0 = x1\n",
    "            y0 = y1\n",
    "            xm = xn\n",
    "            i = i+1\n",
    "            print xm, f(x0,y0)\n",
    "    return xm,f(x0,y0)\n",
    "\n",
    "def f(x,y): #function matrix\n",
    "    return np.matrix([[4*y**2+4*y+52*x-19],[169*x**2+3*y**2+111*x-10*y-10]])\n",
    "\n",
    "def J(x,y): # Jacobian of f\n",
    "    return np.matrix([[52,(8*y+4)],[(338*x+111),(6*y-10)]])\n",
    "\n",
    "def Inv(x,y): # inverse of Jacobian of f\n",
    "    return np.linalg.inv(J(x,y))\n",
    "\n",
    "#def f1(x,y):\n",
    "#    return 4*y**2 + 4*y + 52*x - 19\n",
    "\n",
    "#def f2(x,y):\n",
    "#    return 169*x**2 + 3*y**2 + 111*x - 10*y - 10\n",
    "\n",
    "p = newton(f, Inv, x0, y0, xm, delta, M)\n",
    "print p"
   ]
  },
  {
   "cell_type": "code",
   "execution_count": null,
   "metadata": {
    "collapsed": true
   },
   "outputs": [],
   "source": []
  }
 ],
 "metadata": {
  "kernelspec": {
   "display_name": "Python 2",
   "language": "python",
   "name": "python2"
  },
  "language_info": {
   "codemirror_mode": {
    "name": "ipython",
    "version": 2
   },
   "file_extension": ".py",
   "mimetype": "text/x-python",
   "name": "python",
   "nbconvert_exporter": "python",
   "pygments_lexer": "ipython2",
   "version": "2.7.13"
  }
 },
 "nbformat": 4,
 "nbformat_minor": 2
}
